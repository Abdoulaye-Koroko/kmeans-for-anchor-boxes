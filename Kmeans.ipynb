{
 "cells": [
  {
   "cell_type": "code",
   "execution_count": 375,
   "metadata": {},
   "outputs": [
    {
     "data": {
      "text/html": [
       "<div>\n",
       "<style scoped>\n",
       "    .dataframe tbody tr th:only-of-type {\n",
       "        vertical-align: middle;\n",
       "    }\n",
       "\n",
       "    .dataframe tbody tr th {\n",
       "        vertical-align: top;\n",
       "    }\n",
       "\n",
       "    .dataframe thead th {\n",
       "        text-align: right;\n",
       "    }\n",
       "</style>\n",
       "<table border=\"1\" class=\"dataframe\">\n",
       "  <thead>\n",
       "    <tr style=\"text-align: right;\">\n",
       "      <th></th>\n",
       "      <th>image</th>\n",
       "      <th>xmin</th>\n",
       "      <th>ymin</th>\n",
       "      <th>xmax</th>\n",
       "      <th>ymax</th>\n",
       "      <th>label</th>\n",
       "    </tr>\n",
       "  </thead>\n",
       "  <tbody>\n",
       "    <tr>\n",
       "      <td>0</td>\n",
       "      <td>2Q__%2520(1).jpg</td>\n",
       "      <td>25.857924</td>\n",
       "      <td>17.226564</td>\n",
       "      <td>110.719403</td>\n",
       "      <td>88.090760</td>\n",
       "      <td>Cat_Face</td>\n",
       "    </tr>\n",
       "    <tr>\n",
       "      <td>1</td>\n",
       "      <td>2Q__.jpg</td>\n",
       "      <td>5.396972</td>\n",
       "      <td>6.576271</td>\n",
       "      <td>104.616421</td>\n",
       "      <td>103.466668</td>\n",
       "      <td>Cat_Face</td>\n",
       "    </tr>\n",
       "    <tr>\n",
       "      <td>2</td>\n",
       "      <td>9k_%2520(1).jpg</td>\n",
       "      <td>79.079479</td>\n",
       "      <td>5.430552</td>\n",
       "      <td>218.743590</td>\n",
       "      <td>146.337395</td>\n",
       "      <td>Cat_Face</td>\n",
       "    </tr>\n",
       "    <tr>\n",
       "      <td>3</td>\n",
       "      <td>2Q__%2520(2).jpg</td>\n",
       "      <td>82.308532</td>\n",
       "      <td>4.487640</td>\n",
       "      <td>195.295220</td>\n",
       "      <td>134.736011</td>\n",
       "      <td>Cat_Face</td>\n",
       "    </tr>\n",
       "    <tr>\n",
       "      <td>4</td>\n",
       "      <td>9k_%2520(2).jpg</td>\n",
       "      <td>55.164278</td>\n",
       "      <td>5.977402</td>\n",
       "      <td>185.134605</td>\n",
       "      <td>133.581925</td>\n",
       "      <td>Cat_Face</td>\n",
       "    </tr>\n",
       "  </tbody>\n",
       "</table>\n",
       "</div>"
      ],
      "text/plain": [
       "              image       xmin       ymin        xmax        ymax     label\n",
       "0  2Q__%2520(1).jpg  25.857924  17.226564  110.719403   88.090760  Cat_Face\n",
       "1          2Q__.jpg   5.396972   6.576271  104.616421  103.466668  Cat_Face\n",
       "2   9k_%2520(1).jpg  79.079479   5.430552  218.743590  146.337395  Cat_Face\n",
       "3  2Q__%2520(2).jpg  82.308532   4.487640  195.295220  134.736011  Cat_Face\n",
       "4   9k_%2520(2).jpg  55.164278   5.977402  185.134605  133.581925  Cat_Face"
      ]
     },
     "execution_count": 375,
     "metadata": {},
     "output_type": "execute_result"
    }
   ],
   "source": [
    "import pandas as pd\n",
    "data=pd.read_csv(\"Annotations-export.csv\")\n",
    "data.head()"
   ]
  },
  {
   "cell_type": "code",
   "execution_count": 376,
   "metadata": {},
   "outputs": [],
   "source": [
    "class BoundingBox(object):\n",
    "    def __init__(self,xmin,ymin,xmax,ymax):\n",
    "        self.xmin=xmin\n",
    "        self.ymin=ymin\n",
    "        self.xmax=xmax\n",
    "        self.ymax=ymax\n",
    "        self.h=ymax-ymin\n",
    "        self.w=xmax-xmin"
   ]
  },
  {
   "cell_type": "code",
   "execution_count": 377,
   "metadata": {},
   "outputs": [],
   "source": [
    "X=[]\n",
    "for i in range(len(data)):\n",
    "    b=BoundingBox(data[\"xmin\"][i],data[\"ymin\"][i],data[\"xmax\"][i],data[\"ymax\"][i])\n",
    "    X.append(b)\n"
   ]
  },
  {
   "cell_type": "code",
   "execution_count": 378,
   "metadata": {},
   "outputs": [],
   "source": [
    "def iou(box1,box2):\n",
    "    xi_min=max(box1.xmin,box2.xmin)\n",
    "    yi_min=max(box1.ymin,box2.ymin)\n",
    "    xi_max=min(box1.xmax,box2.xmax)\n",
    "    yi_max=min(box1.ymax,box2.xmax)\n",
    "    inter_width = xi_max-xi_min\n",
    "    inter_height = yi_max-yi_min\n",
    "    inter_area = max(0,inter_width)*max(0,inter_height)\n",
    "    box1_area = box1.h*box1.w\n",
    "    box2_area = box2.h*box2.w\n",
    "    union_area = box1_area+box2_area-inter_area\n",
    "    iou=inter_area/union_area \n",
    "    return iou\n",
    "    "
   ]
  },
  {
   "cell_type": "code",
   "execution_count": 379,
   "metadata": {},
   "outputs": [
    {
     "data": {
      "text/plain": [
       "1.0"
      ]
     },
     "execution_count": 379,
     "metadata": {},
     "output_type": "execute_result"
    }
   ],
   "source": [
    "iou(X[4],X[4])"
   ]
  },
  {
   "cell_type": "code",
   "execution_count": 382,
   "metadata": {},
   "outputs": [],
   "source": [
    "def distance(box,centroid):\n",
    "    d=1-iou(box,centroid)\n",
    "    return d\n"
   ]
  },
  {
   "cell_type": "code",
   "execution_count": 383,
   "metadata": {},
   "outputs": [],
   "source": [
    "def update(clusters):\n",
    "    new_dict=dict()\n",
    "    for k,v in clusters.items():\n",
    "        xmin=[v1.xmin for v1 in v]\n",
    "        ymin=[v1.ymin for v1 in v]\n",
    "        xmax=[v1.xmax for v1 in v]\n",
    "        ymax=[v1.ymax for v1 in v]\n",
    "        b=BoundingBox(np.mean(xmin),np.mean(ymin),np.mean(xmax),np.mean(ymax))\n",
    "        new_dict[b]=v\n",
    "    return  new_dict\n",
    "        \n",
    "    \n",
    "    "
   ]
  },
  {
   "cell_type": "code",
   "execution_count": 387,
   "metadata": {},
   "outputs": [],
   "source": [
    "def kmeans(X,centroids):\n",
    "    old_clusters={d:[d] for d in centroids }\n",
    "    old_liste=[len(x) for x in old_clusters.values()]\n",
    "    old_liste=np.array(old_liste)\n",
    "    iteration=0\n",
    "    while True:\n",
    "        iteration+=1\n",
    "        new_clusters={d:[d] for d in centroids }\n",
    "        dimension=[(round(centroid.h,0),round(centroid.w,0)) for centroid in centroids ]\n",
    "        \n",
    "        \n",
    "        for i in range(len(X)):\n",
    "            d={centroid:distance(X[i],centroid) for centroid in new_clusters}\n",
    "            d_sorted=sorted(d.items(), key = lambda kv:(kv[1]))\n",
    "            new_clusters[d_sorted[0][0]]=new_clusters[d_sorted[0][0]]+[X[i]]\n",
    "        new_liste=[len(x) for x in new_clusters.values()]\n",
    "        new_liste=np.array(new_liste)\n",
    "        \n",
    "        #print(\"iteration \"+str(iteration)+\":\")\n",
    "        #print(\"old_liste=\",old_liste,\"new_liste=\",new_liste)\n",
    "        #print(\"dimension=\",dimension)\n",
    "        if (new_liste==old_liste).all() or iteration>10000:\n",
    "            break\n",
    "        else:\n",
    "            \n",
    "            \n",
    "            centroids=list(update(new_clusters).keys())\n",
    "            old_liste=new_liste.copy()\n",
    "            \n",
    "       \n",
    "        \n",
    "    return centroids,dimension\n",
    "            \n",
    "    "
   ]
  },
  {
   "cell_type": "code",
   "execution_count": 399,
   "metadata": {},
   "outputs": [],
   "source": [
    "X=np.array(X)\n",
    "centroids1=X[np.random.choice(len(X),5,replace=False)]\n",
    "centroids2=X[np.random.choice(len(X),5,replace=False)]"
   ]
  },
  {
   "cell_type": "code",
   "execution_count": 400,
   "metadata": {},
   "outputs": [
    {
     "name": "stdout",
     "output_type": "stream",
     "text": [
      "dimension 1= [(112.0, 122.0), (40.0, 41.0), (77.0, 81.0), (70.0, 76.0), (46.0, 55.0)]\n",
      "dimension 2= [(116.0, 127.0), (32.0, 32.0), (69.0, 76.0), (48.0, 51.0), (80.0, 84.0)]\n"
     ]
    }
   ],
   "source": [
    "centroids1,dimension1=kmeans(X,centroids1)\n",
    "centroids2,dimension2=kmeans(X,centroids2)\n",
    "print(\"dimension 1=\",dimension1)\n",
    "print(\"dimension 2=\",dimension2)\n"
   ]
  },
  {
   "cell_type": "code",
   "execution_count": 401,
   "metadata": {},
   "outputs": [],
   "source": [
    "def avg_IOU(X,centroids):\n",
    "    n=len(X)\n",
    "    sum = 0.\n",
    "    for i in range(n):\n",
    "        liste=[iou(c,X[i]) for c in centroids]\n",
    "        #note IOU() will return array which contains IoU for each centroid and X[i] // slightly ineffective, but I am too lazy\n",
    "        sum+= max(liste) \n",
    "    return sum/n"
   ]
  },
  {
   "cell_type": "code",
   "execution_count": 402,
   "metadata": {},
   "outputs": [
    {
     "name": "stdout",
     "output_type": "stream",
     "text": [
      "avg1= 0.5429130536316586\n",
      "avg2= 0.557437307051035\n"
     ]
    }
   ],
   "source": [
    "avg1=avg_IOU(X,centroids1)\n",
    "avg2=avg_IOU(X,centroids2)\n",
    "print(\"avg1=\",avg1)\n",
    "print(\"avg2=\",avg2)"
   ]
  },
  {
   "cell_type": "code",
   "execution_count": 403,
   "metadata": {},
   "outputs": [
    {
     "data": {
      "image/png": "[encoded data removed]",
      "text/plain": [
       "<Figure size 432x288 with 1 Axes>"
      ]
     },
     "metadata": {
      "needs_background": "light"
     },
     "output_type": "display_data"
    }
   ],
   "source": [
    "import matplotlib.pyplot as plt\n",
    "K=[i for i in range(1,16)]\n",
    "X=np.array(X)\n",
    "avg_iou=[]\n",
    "box_number=len(X)\n",
    "for k in K:\n",
    "    centroids=X[np.random.choice(\n",
    "            box_number, k, replace=False)]\n",
    "    result=kmeans(X,centroids)\n",
    "    new_centroids=result[0]\n",
    "    avg_iou.append(avg_IOU(X,new_centroids))\n",
    "\n",
    "plt.plot(K,avg_iou,color=\"blue\")\n",
    "plt.xlabel(\"#clusters k\")\n",
    "plt.ylabel(\"avg_IOU\")\n",
    "plt.title(\"avg_IOU vs #clusters\")\n",
    "plt.show()"
   ]
  },
  {
   "cell_type": "code",
   "execution_count": 405,
   "metadata": {},
   "outputs": [],
   "source": [
    "def save_anchors(centroids,filename):\n",
    "    with open(filename,\"w\") as f:\n",
    "        for c in centroids:\n",
    "            f.write(str(c.h))\n",
    "            f.write(\"\\t\")\n",
    "            f.write(str(c.w))\n",
    "            f.write(\"\\n\")\n",
    "    print(\"Succefully saved in file\")\n",
    "        "
   ]
  },
  {
   "cell_type": "code",
   "execution_count": 407,
   "metadata": {},
   "outputs": [
    {
     "name": "stdout",
     "output_type": "stream",
     "text": [
      "Succefully saved in file\n"
     ]
    }
   ],
   "source": [
    "\n",
    "filename=\"anchors.txt\"\n",
    "save_anchors(new_centroids,filename)"
   ]
  },
  {
   "cell_type": "code",
   "execution_count": null,
   "metadata": {},
   "outputs": [],
   "source": []
  },
  {
   "cell_type": "code",
   "execution_count": null,
   "metadata": {},
   "outputs": [],
   "source": []
  },
  {
   "cell_type": "code",
   "execution_count": null,
   "metadata": {},
   "outputs": [],
   "source": []
  }
 ],
 "metadata": {
  "kernelspec": {
   "display_name": "Python 3",
   "language": "python",
   "name": "python3"
  },
  "language_info": {
   "codemirror_mode": {
    "name": "ipython",
    "version": 3
   },
   "file_extension": ".py",
   "mimetype": "text/x-python",
   "name": "python",
   "nbconvert_exporter": "python",
   "pygments_lexer": "ipython3",
   "version": "3.7.4"
  }
 },
 "nbformat": 4,
 "nbformat_minor": 2
}
